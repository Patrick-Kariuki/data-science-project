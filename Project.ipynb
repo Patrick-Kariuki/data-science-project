{
 "cells": [
  {
   "cell_type": "code",
   "execution_count": 3,
   "id": "2a47c148-c714-43ff-83a7-77f0e35125e1",
   "metadata": {},
   "outputs": [],
   "source": [
    "import os\n",
    "import numpy as np\n",
    "import matplotlib.pyplot as plt\n",
    "import pandas as pd\n",
    "from PIL import ImageEnhance, Image\n",
    "import random"
   ]
  },
  {
   "cell_type": "code",
   "execution_count": null,
   "id": "5d92814e-c5f7-419a-a63c-f27eea48a067",
   "metadata": {},
   "outputs": [],
   "source": [
    "# Path to the main folder containing subfolders with images\n",
    "main_folder = 'dog_v1'\n",
    "\n",
    "# Iterate over each subfolder in the main folder\n",
    "for folder_name in os.listdir(main_folder):\n",
    "    folder_path = os.path.join(main_folder, folder_name)\n",
    "    if os.path.isdir(folder_path):\n",
    "        #Iterate over each image in the subfolder\n",
    "        for idx, image_name in enumerate(os.listdir(folder_path)):\n",
    "            image_path = os.path.join(folder_path, image_name)\n",
    "            # Rename the image to folder_name_idx.extension\n",
    "            new_image_name = f'{folder_name}_{idx}.{image_name.split(\".\")[-1]}'\n",
    "            new_image_path = os.path.join(folder_path, new_image_name)\n",
    "            os.rename(image_path, new_image_path)"
   ]
  },
  {
   "cell_type": "code",
   "execution_count": 4,
   "id": "6b3bd0e0-f842-494e-9ea9-ab004f9abf9f",
   "metadata": {},
   "outputs": [],
   "source": [
    "def transform_image(image_path, output_path):\n",
    "    # Open the image\n",
    "    with Image.open(image_path) as img:\n",
    "        # Randomly rotate the image by a small angle\n",
    "        rotate_angle = random.uniform(-1, 1)\n",
    "        rotated_img = img.rotate(rotate_angle, resample=Image.BICUBIC, expand=True)\n",
    "\n",
    "        # Randomly flip the image horizontally\n",
    "        if random.choice([True, False]):\n",
    "            rotated_img = rotated_img.transpose(Image.FLIP_LEFT_RIGHT)\n",
    "\n",
    "        # Randomly flip the image vertically\n",
    "        if random.choice([True, False]):\n",
    "            rotated_img = rotated_img.transpose(Image.FLIP_TOP_BOTTOM)\n",
    "\n",
    "        # Zoom in slightly by cropping a smaller central portion of the image\n",
    "        zoom_factor = random.uniform(0.9, 1.0)\n",
    "        width, height = rotated_img.size\n",
    "        new_width, new_height = int(width * zoom_factor), int(height * zoom_factor)\n",
    "        left = (width - new_width) // 2\n",
    "        top = (height - new_height) // 2\n",
    "        right = (width + new_width) // 2\n",
    "        bottom = (height + new_height) // 2\n",
    "        zoomed_img = rotated_img.crop((left, top, right, bottom))\n",
    "\n",
    "        if zoomed_img.mode == 'RGBA':\n",
    "            zoomed_img = zoomed_img.convert('RGB')\n",
    "\n",
    "        # Save the transformed image as JPEG\n",
    "        zoomed_img.save(output_path, 'JPEG')"
   ]
  },
  {
   "cell_type": "code",
   "execution_count": 5,
   "id": "23ab7ab7-af34-4bcd-81cc-29ccc51ee692",
   "metadata": {},
   "outputs": [
    {
     "ename": "KeyboardInterrupt",
     "evalue": "",
     "output_type": "error",
     "traceback": [
      "\u001b[0;31m---------------------------------------------------------------------------\u001b[0m",
      "\u001b[0;31mKeyboardInterrupt\u001b[0m                         Traceback (most recent call last)",
      "Cell \u001b[0;32mIn[5], line 26\u001b[0m\n\u001b[1;32m     23\u001b[0m new_image_output_path \u001b[38;5;241m=\u001b[39m os\u001b[38;5;241m.\u001b[39mpath\u001b[38;5;241m.\u001b[39mjoin(output_subfolder, new_image_name)\n\u001b[1;32m     25\u001b[0m \u001b[38;5;66;03m# Apply transformations and save the transformed image\u001b[39;00m\n\u001b[0;32m---> 26\u001b[0m \u001b[43mtransform_image\u001b[49m\u001b[43m(\u001b[49m\u001b[43mimage_input_path\u001b[49m\u001b[43m,\u001b[49m\u001b[43m \u001b[49m\u001b[43mnew_image_output_path\u001b[49m\u001b[43m)\u001b[49m\n",
      "Cell \u001b[0;32mIn[4], line 6\u001b[0m, in \u001b[0;36mtransform_image\u001b[0;34m(image_path, output_path)\u001b[0m\n\u001b[1;32m      3\u001b[0m \u001b[38;5;28;01mwith\u001b[39;00m Image\u001b[38;5;241m.\u001b[39mopen(image_path) \u001b[38;5;28;01mas\u001b[39;00m img:\n\u001b[1;32m      4\u001b[0m     \u001b[38;5;66;03m# Randomly rotate the image by a small angle\u001b[39;00m\n\u001b[1;32m      5\u001b[0m     rotate_angle \u001b[38;5;241m=\u001b[39m random\u001b[38;5;241m.\u001b[39muniform(\u001b[38;5;241m-\u001b[39m\u001b[38;5;241m1\u001b[39m, \u001b[38;5;241m1\u001b[39m)\n\u001b[0;32m----> 6\u001b[0m     rotated_img \u001b[38;5;241m=\u001b[39m \u001b[43mimg\u001b[49m\u001b[38;5;241;43m.\u001b[39;49m\u001b[43mrotate\u001b[49m\u001b[43m(\u001b[49m\u001b[43mrotate_angle\u001b[49m\u001b[43m,\u001b[49m\u001b[43m \u001b[49m\u001b[43mresample\u001b[49m\u001b[38;5;241;43m=\u001b[39;49m\u001b[43mImage\u001b[49m\u001b[38;5;241;43m.\u001b[39;49m\u001b[43mBICUBIC\u001b[49m\u001b[43m,\u001b[49m\u001b[43m \u001b[49m\u001b[43mexpand\u001b[49m\u001b[38;5;241;43m=\u001b[39;49m\u001b[38;5;28;43;01mTrue\u001b[39;49;00m\u001b[43m)\u001b[49m\n\u001b[1;32m      8\u001b[0m     \u001b[38;5;66;03m# Randomly flip the image horizontally\u001b[39;00m\n\u001b[1;32m      9\u001b[0m     \u001b[38;5;28;01mif\u001b[39;00m random\u001b[38;5;241m.\u001b[39mchoice([\u001b[38;5;28;01mTrue\u001b[39;00m, \u001b[38;5;28;01mFalse\u001b[39;00m]):\n",
      "File \u001b[0;32m~/opt/anaconda3/lib/python3.9/site-packages/PIL/Image.py:2350\u001b[0m, in \u001b[0;36mImage.rotate\u001b[0;34m(self, angle, resample, expand, center, translate, fillcolor)\u001b[0m\n\u001b[1;32m   2347\u001b[0m     matrix[\u001b[38;5;241m2\u001b[39m], matrix[\u001b[38;5;241m5\u001b[39m] \u001b[38;5;241m=\u001b[39m transform(\u001b[38;5;241m-\u001b[39m(nw \u001b[38;5;241m-\u001b[39m w) \u001b[38;5;241m/\u001b[39m \u001b[38;5;241m2.0\u001b[39m, \u001b[38;5;241m-\u001b[39m(nh \u001b[38;5;241m-\u001b[39m h) \u001b[38;5;241m/\u001b[39m \u001b[38;5;241m2.0\u001b[39m, matrix)\n\u001b[1;32m   2348\u001b[0m     w, h \u001b[38;5;241m=\u001b[39m nw, nh\n\u001b[0;32m-> 2350\u001b[0m \u001b[38;5;28;01mreturn\u001b[39;00m \u001b[38;5;28;43mself\u001b[39;49m\u001b[38;5;241;43m.\u001b[39;49m\u001b[43mtransform\u001b[49m\u001b[43m(\u001b[49m\n\u001b[1;32m   2351\u001b[0m \u001b[43m    \u001b[49m\u001b[43m(\u001b[49m\u001b[43mw\u001b[49m\u001b[43m,\u001b[49m\u001b[43m \u001b[49m\u001b[43mh\u001b[49m\u001b[43m)\u001b[49m\u001b[43m,\u001b[49m\u001b[43m \u001b[49m\u001b[43mTransform\u001b[49m\u001b[38;5;241;43m.\u001b[39;49m\u001b[43mAFFINE\u001b[49m\u001b[43m,\u001b[49m\u001b[43m \u001b[49m\u001b[43mmatrix\u001b[49m\u001b[43m,\u001b[49m\u001b[43m \u001b[49m\u001b[43mresample\u001b[49m\u001b[43m,\u001b[49m\u001b[43m \u001b[49m\u001b[43mfillcolor\u001b[49m\u001b[38;5;241;43m=\u001b[39;49m\u001b[43mfillcolor\u001b[49m\n\u001b[1;32m   2352\u001b[0m \u001b[43m\u001b[49m\u001b[43m)\u001b[49m\n",
      "File \u001b[0;32m~/opt/anaconda3/lib/python3.9/site-packages/PIL/Image.py:2722\u001b[0m, in \u001b[0;36mImage.transform\u001b[0;34m(self, size, method, data, resample, fill, fillcolor)\u001b[0m\n\u001b[1;32m   2718\u001b[0m         im\u001b[38;5;241m.\u001b[39m__transformer(\n\u001b[1;32m   2719\u001b[0m             box, \u001b[38;5;28mself\u001b[39m, Transform\u001b[38;5;241m.\u001b[39mQUAD, quad, resample, fillcolor \u001b[38;5;129;01mis\u001b[39;00m \u001b[38;5;28;01mNone\u001b[39;00m\n\u001b[1;32m   2720\u001b[0m         )\n\u001b[1;32m   2721\u001b[0m \u001b[38;5;28;01melse\u001b[39;00m:\n\u001b[0;32m-> 2722\u001b[0m     \u001b[43mim\u001b[49m\u001b[38;5;241;43m.\u001b[39;49m\u001b[43m__transformer\u001b[49m\u001b[43m(\u001b[49m\n\u001b[1;32m   2723\u001b[0m \u001b[43m        \u001b[49m\u001b[43m(\u001b[49m\u001b[38;5;241;43m0\u001b[39;49m\u001b[43m,\u001b[49m\u001b[43m \u001b[49m\u001b[38;5;241;43m0\u001b[39;49m\u001b[43m)\u001b[49m\u001b[43m \u001b[49m\u001b[38;5;241;43m+\u001b[39;49m\u001b[43m \u001b[49m\u001b[43msize\u001b[49m\u001b[43m,\u001b[49m\u001b[43m \u001b[49m\u001b[38;5;28;43mself\u001b[39;49m\u001b[43m,\u001b[49m\u001b[43m \u001b[49m\u001b[43mmethod\u001b[49m\u001b[43m,\u001b[49m\u001b[43m \u001b[49m\u001b[43mdata\u001b[49m\u001b[43m,\u001b[49m\u001b[43m \u001b[49m\u001b[43mresample\u001b[49m\u001b[43m,\u001b[49m\u001b[43m \u001b[49m\u001b[43mfillcolor\u001b[49m\u001b[43m \u001b[49m\u001b[38;5;129;43;01mis\u001b[39;49;00m\u001b[43m \u001b[49m\u001b[38;5;28;43;01mNone\u001b[39;49;00m\n\u001b[1;32m   2724\u001b[0m \u001b[43m    \u001b[49m\u001b[43m)\u001b[49m\n\u001b[1;32m   2726\u001b[0m \u001b[38;5;28;01mreturn\u001b[39;00m im\n",
      "File \u001b[0;32m~/opt/anaconda3/lib/python3.9/site-packages/PIL/Image.py:2805\u001b[0m, in \u001b[0;36mImage.__transformer\u001b[0;34m(self, box, image, method, data, resample, fill)\u001b[0m\n\u001b[1;32m   2802\u001b[0m \u001b[38;5;28;01mif\u001b[39;00m image\u001b[38;5;241m.\u001b[39mmode \u001b[38;5;129;01min\u001b[39;00m (\u001b[38;5;124m\"\u001b[39m\u001b[38;5;124m1\u001b[39m\u001b[38;5;124m\"\u001b[39m, \u001b[38;5;124m\"\u001b[39m\u001b[38;5;124mP\u001b[39m\u001b[38;5;124m\"\u001b[39m):\n\u001b[1;32m   2803\u001b[0m     resample \u001b[38;5;241m=\u001b[39m Resampling\u001b[38;5;241m.\u001b[39mNEAREST\n\u001b[0;32m-> 2805\u001b[0m \u001b[38;5;28;43mself\u001b[39;49m\u001b[38;5;241;43m.\u001b[39;49m\u001b[43mim\u001b[49m\u001b[38;5;241;43m.\u001b[39;49m\u001b[43mtransform2\u001b[49m\u001b[43m(\u001b[49m\u001b[43mbox\u001b[49m\u001b[43m,\u001b[49m\u001b[43m \u001b[49m\u001b[43mimage\u001b[49m\u001b[38;5;241;43m.\u001b[39;49m\u001b[43mim\u001b[49m\u001b[43m,\u001b[49m\u001b[43m \u001b[49m\u001b[43mmethod\u001b[49m\u001b[43m,\u001b[49m\u001b[43m \u001b[49m\u001b[43mdata\u001b[49m\u001b[43m,\u001b[49m\u001b[43m \u001b[49m\u001b[43mresample\u001b[49m\u001b[43m,\u001b[49m\u001b[43m \u001b[49m\u001b[43mfill\u001b[49m\u001b[43m)\u001b[49m\n",
      "\u001b[0;31mKeyboardInterrupt\u001b[0m: "
     ]
    }
   ],
   "source": [
    "main_folder = 'dog_v1'\n",
    "output_folder = 'Test'\n",
    "\n",
    "for folder_name in os.listdir(main_folder):\n",
    "    folder_path = os.path.join(main_folder, folder_name)\n",
    "    if os.path.isdir(folder_path):\n",
    "        # Create a subfolder in the output folder for the current subfolder\n",
    "        output_subfolder = os.path.join(output_folder, folder_name)\n",
    "        if not os.path.exists(output_subfolder):\n",
    "            os.makedirs(output_subfolder)\n",
    "\n",
    "        # Iterate over each image in the subfolder\n",
    "        for idx, image_name in enumerate(os.listdir(folder_path)):\n",
    "            image_input_path = os.path.join(folder_path, image_name)\n",
    "            # Copy the original image to the output folder\n",
    "            image_output_path = os.path.join(output_subfolder, f'{image_name}')\n",
    "            Image.open(image_input_path).save(image_output_path)\n",
    "\n",
    "            # Generate 9 additional transformed versions of the image\n",
    "            for i in range(1, 10):\n",
    "                # Generate a unique filename for each transformed image\n",
    "                new_image_name = f'{folder_name}_{idx}_{i}.jpg'\n",
    "                new_image_output_path = os.path.join(output_subfolder, new_image_name)\n",
    "\n",
    "                # Apply transformations and save the transformed image\n",
    "                transform_image(image_input_path, new_image_output_path)"
   ]
  },
  {
   "cell_type": "code",
   "execution_count": null,
   "id": "de722f7e-1be6-4756-9b3c-f14bd6ef1c3a",
   "metadata": {},
   "outputs": [],
   "source": []
  }
 ],
 "metadata": {
  "kernelspec": {
   "display_name": "Python 3 (ipykernel)",
   "language": "python",
   "name": "python3"
  },
  "language_info": {
   "codemirror_mode": {
    "name": "ipython",
    "version": 3
   },
   "file_extension": ".py",
   "mimetype": "text/x-python",
   "name": "python",
   "nbconvert_exporter": "python",
   "pygments_lexer": "ipython3",
   "version": "3.9.18"
  }
 },
 "nbformat": 4,
 "nbformat_minor": 5
}
