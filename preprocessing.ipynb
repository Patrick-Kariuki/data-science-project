{
 "cells": [
  {
   "cell_type": "markdown",
   "metadata": {},
   "source": [
    "Task 1: develop more images using rotations and scaling.\n",
    "Task 2: need to change the data and split into training and validation test"
   ]
  },
  {
   "cell_type": "code",
   "execution_count": 3,
   "metadata": {},
   "outputs": [
    {
     "name": "stderr",
     "output_type": "stream",
     "text": [
      "/Users/patrickkariuki/anaconda3/lib/python3.11/site-packages/PIL/Image.py:981: UserWarning: Palette images with Transparency expressed in bytes should be converted to RGBA images\n",
      "  warnings.warn(\n",
      "/Users/patrickkariuki/anaconda3/lib/python3.11/site-packages/PIL/TiffImagePlugin.py:870: UserWarning: Corrupt EXIF data.  Expecting to read 4 bytes but only got 0. \n",
      "  warnings.warn(str(msg))\n"
     ]
    }
   ],
   "source": [
    "from keras.preprocessing.image import ImageDataGenerator\n",
    "from keras.utils import load_img, img_to_array\n",
    "from PIL import Image\n",
    "import os\n",
    "import numpy as np\n",
    "\n",
    "# Define the data generator with desired transformations\n",
    "data_generator = ImageDataGenerator(\n",
    "    rotation_range=20,\n",
    "    width_shift_range=0.1,\n",
    "    height_shift_range=0.1,\n",
    "    shear_range=0.1,\n",
    "    zoom_range=0.1,\n",
    "    horizontal_flip=True,\n",
    "    vertical_flip=True,\n",
    "    fill_mode='nearest'\n",
    ")\n",
    "\n",
    "# Define the path to your dataset\n",
    "dataset_path = './dog_v1'\n",
    "\n",
    "# Create the 'new_images' directory if it doesn't exist\n",
    "os.makedirs('./new_images/', exist_ok=True)\n",
    "\n",
    "# Generate augmented data for each breed\n",
    "for breed in ['french_bulldog', 'german_shepherd', 'golden_retriever', 'poodle', 'yorkshire_terrier']:\n",
    "    breed_path = os.path.join(dataset_path, breed)\n",
    "    image_paths = [os.path.join(breed_path, img) for img in os.listdir(breed_path)]\n",
    "\n",
    "    # Load, resize, and preprocess images\n",
    "    images = [load_img(img_path, target_size=(224, 224)) for img_path in image_paths]\n",
    "    images = [img_to_array(img) for img in images]\n",
    "    images = np.array(images)\n",
    "\n",
    "    # Create an iterator to generate augmented images\n",
    "    image_generator = data_generator.flow(\n",
    "        images,\n",
    "        batch_size=32,\n",
    "        seed=42\n",
    "    )\n",
    "\n",
    "    # Generate and save augmented images\n",
    "    i = 0\n",
    "    for batch in image_generator:\n",
    "        for image in batch:\n",
    "            image_path = os.path.join('./new_images/', f'{breed}_{i}.jpg')\n",
    "            img = Image.fromarray(image.astype('uint8'), 'RGB')\n",
    "            img.save(image_path)\n",
    "            i += 1\n",
    "        if i >= 1000:  # Generate 1000 augmented images per breed\n",
    "            break"
   ]
  },
  {
   "cell_type": "markdown",
   "metadata": {},
   "source": []
  }
 ],
 "metadata": {
  "kernelspec": {
   "display_name": "base",
   "language": "python",
   "name": "python3"
  },
  "language_info": {
   "codemirror_mode": {
    "name": "ipython",
    "version": 3
   },
   "file_extension": ".py",
   "mimetype": "text/x-python",
   "name": "python",
   "nbconvert_exporter": "python",
   "pygments_lexer": "ipython3",
   "version": "3.11.5"
  }
 },
 "nbformat": 4,
 "nbformat_minor": 2
}
